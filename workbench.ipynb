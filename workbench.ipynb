{
 "cells": [
  {
   "cell_type": "markdown",
   "id": "1b79a15c-5470-4a35-93c0-9661f789d76d",
   "metadata": {},
   "source": [
    "# Workbench\n",
    "\n",
    "Notebook used to do development."
   ]
  },
  {
   "cell_type": "code",
   "execution_count": null,
   "id": "2bc0beeb-2520-4290-a0f3-53bde79b94fc",
   "metadata": {},
   "outputs": [],
   "source": [
    "print(\"Hello World!\")"
   ]
  }
 ],
 "metadata": {
  "kernelspec": {
   "display_name": "local venv",
   "language": "python",
   "name": "venv"
  },
  "language_info": {
   "codemirror_mode": {
    "name": "ipython",
    "version": 3
   },
   "file_extension": ".py",
   "mimetype": "text/x-python",
   "name": "python",
   "nbconvert_exporter": "python",
   "pygments_lexer": "ipython3",
   "version": "3.11.0rc1"
  }
 },
 "nbformat": 4,
 "nbformat_minor": 5
}
